{
 "cells": [
  {
   "cell_type": "code",
   "execution_count": 1,
   "metadata": {},
   "outputs": [],
   "source": [
    "import os\n",
    "import sys\n",
    "from dataclasses import dataclass\n",
    "from pathlib import Path\n",
    "from cnnClassifier import logging,CustomException\n",
    "import urllib.request as request\n",
    "import zipfile"
   ]
  },
  {
   "cell_type": "markdown",
   "metadata": {},
   "source": [
    "THIS JUPYTER NOTEBOOK WILL RUN BEDEFAULT IN THE RESEARCH FOLDER HENCE WE NEED TO CHANGE OUR DIRECTORY ONE LEVEL UP"
   ]
  },
  {
   "cell_type": "code",
   "execution_count": 2,
   "metadata": {},
   "outputs": [
    {
     "name": "stdout",
     "output_type": "stream",
     "text": [
      "d:\\codes\\DeepLearning_Proj\\proj1\\research\n"
     ]
    }
   ],
   "source": [
    "# os.chdir('D:\\\\codes\\\\DeepLearning_Proj\\\\proj1\\\\research')\n",
    "curr_working_dir = os.getcwd()\n",
    "print(curr_working_dir)"
   ]
  },
  {
   "cell_type": "markdown",
   "metadata": {},
   "source": [
    "RUN THE BELOW CODE IF YOU HAVE MOVED COUPLE OF DIRECTORY ABOVE TO COME BACK TO THE ORIGINAL DIRECTORY"
   ]
  },
  {
   "cell_type": "code",
   "execution_count": 3,
   "metadata": {},
   "outputs": [],
   "source": [
    "# os.chdir(curr_working_dir) "
   ]
  },
  {
   "cell_type": "code",
   "execution_count": 4,
   "metadata": {},
   "outputs": [
    {
     "data": {
      "text/plain": [
       "'d:\\\\codes\\\\DeepLearning_Proj\\\\proj1'"
      ]
     },
     "execution_count": 4,
     "metadata": {},
     "output_type": "execute_result"
    }
   ],
   "source": [
    "os.chdir('../')  # MOVE ONE LEVEL UP\n",
    "%pwd"
   ]
  },
  {
   "cell_type": "code",
   "execution_count": 5,
   "metadata": {},
   "outputs": [],
   "source": [
    "@dataclass(frozen = True)\n",
    "class DataIngestionConfig:  #(BELOW ARE THE RETURN TYPES OF THE FUNCTION)\n",
    "    root_dir         : Path\n",
    "    source_URL       : str\n",
    "    local_data_file  : Path\n",
    "    unzip_dir        : Path"
   ]
  },
  {
   "cell_type": "markdown",
   "metadata": {},
   "source": [
    "WE ARE IMPORTING EVERY THING FROM THE CONSTANT FILE BECAUSE IT CONTAINS THE FILE PATH WHERE THE LINKS TO USE THE DATASET IS AVAILABLE"
   ]
  },
  {
   "cell_type": "code",
   "execution_count": 6,
   "metadata": {},
   "outputs": [],
   "source": [
    "from cnnClassifier.constants import *\n",
    "from cnnClassifier.utils.common import read_yaml,create_directory,get_size"
   ]
  },
  {
   "cell_type": "code",
   "execution_count": 7,
   "metadata": {},
   "outputs": [],
   "source": [
    "class ConfigurationManager:\n",
    "    def __init__(\n",
    "            self,\n",
    "            config_filepath = CONFIG_FILE_PATH,\n",
    "            params_filepath = PARAMS_FILE_PATH):\n",
    "    \n",
    "        self.config = read_yaml(config_filepath)\n",
    "        self.params = read_yaml(params_filepath)\n",
    "\n",
    "        create_directory([self.config.artifacts_root])  # THIS WILL CREATE THE PARENT DIRECTORY AS (artifacts)\n",
    "\n",
    "    def get_data_ingestion_config(self) -> DataIngestionConfig:\n",
    "        config = self.config.data_ingestion\n",
    "\n",
    "        create_directory([config.root_dir])\n",
    "\n",
    "        data_ingestion_config = DataIngestionConfig(\n",
    "            root_dir         = config.root_dir,\n",
    "            source_URL       = config.source_URL,\n",
    "            local_data_file  = config.local_data_file,\n",
    "            unzip_dir        = config.unzip_dir\n",
    "        )\n",
    "\n",
    "        return data_ingestion_config"
   ]
  },
  {
   "cell_type": "markdown",
   "metadata": {},
   "source": [
    "request.urlretrieve -> THIS LINE CALLS THE 'urlretrieve' FROM THE 'urllib.request' MODULE. 'urlretrieve' IS USED TO DOWNLOAD A FILE FROM A REMOTE URL AND SAVE IT LOCALLY.\n",
    "\n",
    "IT WILL RETURN 2 VALUES \n",
    "\n",
    "1) filename -> the local file path where the downloaded content is saved \n",
    "\n",
    "2) header -> contain the HTTP header of the response from the remote server"
   ]
  },
  {
   "cell_type": "code",
   "execution_count": 8,
   "metadata": {},
   "outputs": [],
   "source": [
    "class DataIngestion:\n",
    "    def __init__(self, config : DataIngestionConfig):\n",
    "        self.config = config\n",
    "        \n",
    "    def download_file(self):\n",
    "        if not os.path.exists(self.config.local_data_file):\n",
    "            filename, header = request.urlretrieve(\n",
    "                url = self.config.source_URL,             # THE LINK OR THE SOURCE FROM WHERE THE FILE HAS TO BE DOWNLOADED \n",
    "                filename = self.config.local_data_file    # THE LOCAL PATH WHERE THE FILE HAS TO BE SAVED\n",
    "            )\n",
    "            logging.info(f'{filename} DOWNLOADED WITH THE FOLOWING INFO {header}')\n",
    "        else:\n",
    "            logging.info(f'file already exist of size : {get_size(Path(self.config.local_data_file))}')\n",
    "\n",
    "    def extract_zip_file(self):\n",
    "        '''\n",
    "            zip_file_path : str\n",
    "            extract the zip file into the data diretory \n",
    "            function returns none\n",
    "        '''\n",
    "        unzip_path = self.config.unzip_dir\n",
    "        os.makedirs(unzip_path, exist_ok=True)\n",
    "        with zipfile.ZipFile(self.config.local_data_file, 'r') as zip_ref:\n",
    "            zip_ref.extractall(unzip_path)"
   ]
  },
  {
   "cell_type": "code",
   "execution_count": 10,
   "metadata": {},
   "outputs": [
    {
     "name": "stdout",
     "output_type": "stream",
     "text": [
      "[2023-11-03 01:35:53,769] 31 root - INFO - YAML FILE config\\config.yaml LOADED SUCCESSFULLY\n",
      "[2023-11-03 01:35:53,772] 31 root - INFO - YAML FILE params.yaml LOADED SUCCESSFULLY\n",
      "[2023-11-03 01:35:53,775] 50 root - INFO - CREATED DIRECTORY AT : artifacts\n",
      "[2023-11-03 01:35:53,777] 50 root - INFO - CREATED DIRECTORY AT : artifacts/data_ingestion\n",
      "[2023-11-03 01:35:53,779] 13 root - INFO - file already exist of size : ~ 11345 KB\n"
     ]
    }
   ],
   "source": [
    "try:\n",
    "    config = ConfigurationManager()\n",
    "    data_ingestion_config = config.get_data_ingestion_config()\n",
    "    data_ingestion = DataIngestion(config = data_ingestion_config)\n",
    "    data_ingestion.download_file()\n",
    "    data_ingestion.extract_zip_file()\n",
    "except Exception as e:\n",
    "    CustomException(e,sys)"
   ]
  },
  {
   "cell_type": "code",
   "execution_count": null,
   "metadata": {},
   "outputs": [],
   "source": []
  },
  {
   "cell_type": "code",
   "execution_count": null,
   "metadata": {},
   "outputs": [],
   "source": []
  },
  {
   "cell_type": "code",
   "execution_count": null,
   "metadata": {},
   "outputs": [],
   "source": []
  }
 ],
 "metadata": {
  "kernelspec": {
   "display_name": "DLproj1",
   "language": "python",
   "name": "python3"
  },
  "language_info": {
   "codemirror_mode": {
    "name": "ipython",
    "version": 3
   },
   "file_extension": ".py",
   "mimetype": "text/x-python",
   "name": "python",
   "nbconvert_exporter": "python",
   "pygments_lexer": "ipython3",
   "version": "3.11.4"
  }
 },
 "nbformat": 4,
 "nbformat_minor": 2
}
