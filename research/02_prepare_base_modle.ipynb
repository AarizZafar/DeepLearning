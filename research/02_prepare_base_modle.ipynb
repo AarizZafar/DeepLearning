{
 "cells": [
  {
   "cell_type": "code",
   "execution_count": 19,
   "metadata": {},
   "outputs": [],
   "source": [
    "import os\n",
    "import sys\n",
    "from dataclasses import dataclass\n",
    "from pathlib import Path\n",
    "import urllib.request as request\n",
    "from zipfile import ZipFile\n",
    "import tensorflow as tf \n",
    "from cnnClassifier.utils.common import logging,CustomException"
   ]
  },
  {
   "cell_type": "code",
   "execution_count": 5,
   "metadata": {},
   "outputs": [
    {
     "name": "stdout",
     "output_type": "stream",
     "text": [
      "d:\\codes\\DeepLearning_Proj\\proj1\\research\n"
     ]
    }
   ],
   "source": [
    "# os.chdir('d:\\\\codes\\\\DeepLearning_Proj\\\\proj1\\\\research')\n",
    "curr_dir = os.getcwd()\n",
    "print(curr_dir)"
   ]
  },
  {
   "cell_type": "code",
   "execution_count": 6,
   "metadata": {},
   "outputs": [],
   "source": [
    "os.chdir(curr_dir)"
   ]
  },
  {
   "cell_type": "code",
   "execution_count": 7,
   "metadata": {},
   "outputs": [
    {
     "name": "stdout",
     "output_type": "stream",
     "text": [
      "d:\\codes\\DeepLearning_Proj\\proj1\n"
     ]
    }
   ],
   "source": [
    "os.chdir('../') # MOVING ONE LEVEL UP\n",
    "print(os.getcwd())"
   ]
  },
  {
   "cell_type": "code",
   "execution_count": 12,
   "metadata": {},
   "outputs": [],
   "source": [
    "@dataclass(frozen = True)\n",
    "class PrepareBaseModelConfig:\n",
    "    root_dir                  : Path\n",
    "    base_model_path           : Path\n",
    "    update_base_model_path    : Path\n",
    "    params_image_size         : list\n",
    "    params_learning_rate      : float\n",
    "    params_include_top        : bool\n",
    "    params_weights            : str\n",
    "    params_classes            : int"
   ]
  },
  {
   "cell_type": "code",
   "execution_count": 13,
   "metadata": {},
   "outputs": [],
   "source": [
    "from cnnClassifier.constants import *\n",
    "from cnnClassifier.utils.common import read_yaml,create_directory"
   ]
  },
  {
   "cell_type": "code",
   "execution_count": 79,
   "metadata": {},
   "outputs": [],
   "source": [
    "class ConfigurationManager:\n",
    "    def __init__(\n",
    "            self,\n",
    "            config_filepath = CONFIG_FILE_PATH,\n",
    "            params_filepath = PARAMS_FILE_PATH):\n",
    "        \n",
    "        self.config = read_yaml(config_filepath)\n",
    "        self.params = read_yaml(params_filepath)\n",
    "\n",
    "        create_directory([self.config.artifacts_root])\n",
    "\n",
    "    def get_prepare_base_model_config(self) -> PrepareBaseModelConfig:\n",
    "        config = self.config.prepare_base_model\n",
    "\n",
    "        create_directory([config.root_dir])\n",
    "\n",
    "        prepare_base_model_config = PrepareBaseModelConfig(\n",
    "            root_dir                   = Path(config.root_dir),\n",
    "            base_model_path            = Path(config.base_model_path),\n",
    "            update_base_model_path     = Path(config.update_base_model_path),\n",
    "            params_image_size          = self.params.IMAGE_SIZE,\n",
    "            params_learning_rate       = self.params.LEARNING_RATE,\n",
    "            params_include_top         = self.params.INCLUDE_TOP,\n",
    "            params_weights             = self.params.WEIGHTS,\n",
    "            params_classes             = self.params.CLASSES\n",
    "        )\n",
    "        \n",
    "        return prepare_base_model_config\n"
   ]
  },
  {
   "cell_type": "markdown",
   "metadata": {},
   "source": [
    "freeze_all = IF (TRUE) -> WE WANT THE MODEL TO FREEZE ALL THE MODEL'S WEIGHTS, WE DO NOT WANT TO RETRAIN THE MODEL FROM SCRATCH. THIS IS DONE\n",
    "             SO THAT WE CAN USE VGG16 AS A FEATURE EXTRACTOR WITHOUT FUTURE TRAINING\n",
    "             \n",
    "freeze_till = AN INTEGER TO INDICATE HOW MANY LAYERS TO FREEZE FROM THE TOP (EXCLUDING THE LAST LAYER) THAT WE WANT TO FREEZE, THE REST WILL BE FINE TUNED BY US THIS IS KNOWN AS PARTIAL FINE TUNING WHEN WE WANT TO ADAPT THE MODEL TO A NEW TASK WITHOUT RETRAINING THE ENTIRE NETWORK.\n",
    "\n",
    "THE EARLIER LAYERS ARE FROZEN BECAUSE THEY CONTAIN MORE GENERAL FEATURES, GENERAL FEATURES ARE LIKE THE FUNDAMENTAL BUILDING BLOCK THAT A MODEL LEARNS FROM THE DATA AT THE STARTING. THESE FUNDAMENTAL FEATURES CAN BE EDGE AND TEXTURES, BASIC SHAPES ETC.\n",
    "\n",
    "tf.keras.models.Model() -> THIS FUNCTION IS USED TO CREATE NEW MODEL ITS LIKE ASSEMBLING DIFFERENT PIECES OF A PUZZLE"
   ]
  },
  {
   "cell_type": "code",
   "execution_count": 88,
   "metadata": {},
   "outputs": [],
   "source": [
    "class PrepareBaseModel:\n",
    "    def __init__(self, config:PrepareBaseModelConfig):\n",
    "        self.config = config\n",
    "\n",
    "    # THIS IS SAVING THE BASE MODEL THAT IS VGG16\n",
    "    def get_base_model(self):\n",
    "        # BELOW THIS self.model WILL BE PASSED INTO THE _prepare_full_model METHOEDc\n",
    "        self.model        = tf.keras.applications.vgg16.VGG16(\n",
    "            input_shape   = self.config.params_image_size,\n",
    "            weights       = self.config.params_weights,\n",
    "            include_top   = self.config.params_include_top\n",
    "        )\n",
    "        \n",
    "        self.save_model(path  = self.config.base_model_path,\n",
    "                        model = self.model)\n",
    "\n",
    "    @staticmethod\n",
    "    def _prepare_full_model(model, classes, freeze_all, freeze_till, learning_rate):\n",
    "        if freeze_all:      \n",
    "            for layer in model.layers:\n",
    "                model.trainable = False\n",
    "\n",
    "        elif (freeze_till is not None) and (freeze_till > 0):\n",
    "            for layer in model.layers[:-freeze_till]:  # -freeze_till WILL FREEZE THE STARTING LAYERS AND NOT INCLUDE THE LAST -freeze_till layes\n",
    "                model.trainable = False                # WE FREEZE THE SELECTED LAYERS MEANING THAT THEIR WEIGHTS WILL NOT BE UPDATED DURING TRAINING\n",
    "        \n",
    "        # IT TAKES THE 2D FEATURE MAP AND CONVERT IT INTO 1D VECTOR THE RESULT IS STORED IN A VARIABLE\n",
    "        # (model.output) -> IT MEANS THAT WE WANT TO FLATTEN THE OUTPUT PRODUCED BY THE CNN\n",
    "        flatten_in = tf.keras.layers.Flatten()(model.output) \n",
    "\n",
    "        # THIS IS THE FULLEY CONNECTED LAYER THE OUTPUT WILL BE DEPENDANT ON THE NUMBER OF OUTPUT WE HAVE (CLASSES)\n",
    "        prediction = tf.keras.layers.Dense(\n",
    "            units = classes,\n",
    "            activation ='softmax'\n",
    "        )(flatten_in)\n",
    "\n",
    "        # THE PROVIDED CODE CREATES A NEW MODEL BY COMBINING TWO PARTS OF THE NEURAL NETWORK \n",
    "        full_model = tf.keras.models.Model(\n",
    "            inputs = model.input,\n",
    "            outputs = prediction\n",
    "        )\n",
    "\n",
    "        full_model.compile(\n",
    "            optimizer = tf.keras.optimizers.SGD(learning_rate = learning_rate),\n",
    "            loss = tf.keras.losses.CategoricalCrossentropy(),\n",
    "            metrics = ['accuracy']\n",
    "        )\n",
    "\n",
    "        full_model.summary()\n",
    "        return full_model\n",
    "\n",
    "    def update_base_model(self):\n",
    "        # THESE ARE THE PARAMETERS THAT WE ARE PASSING IN VGG16 IN THE ABOVE FUNCTION THAT WILL RETURN THE SUMMARY OF THE MODEL\n",
    "        self.full_model    = self._prepare_full_model(\n",
    "            model          = self.model,\n",
    "            classes        = self.config.params_classes,\n",
    "            freeze_all     = True,\n",
    "            freeze_till    = None,\n",
    "            learning_rate  = self.config.params_learning_rate\n",
    "        )\n",
    "\n",
    "        # AFTER WE RECEIVE THE SUMMARY OF THE MODEL WE WILL SAVE IT\n",
    "        self.save_model(path  = self.config.update_base_model_path,\n",
    "                        model = self.full_model)\n",
    "        \n",
    "    @staticmethod\n",
    "    def save_model(path : Path, model: tf.keras.Model):\n",
    "        print(model.summary)\n",
    "        model.save(path)"
   ]
  },
  {
   "cell_type": "markdown",
   "metadata": {},
   "source": [
    "CREATING THE PIPELINE"
   ]
  },
  {
   "cell_type": "code",
   "execution_count": 89,
   "metadata": {},
   "outputs": [
    {
     "name": "stdout",
     "output_type": "stream",
     "text": [
      "[2023-10-27 15:04:23,972] 31 root - INFO - YAML FILE config\\config.yaml LOADED SUCCESSFULLY\n",
      "[2023-10-27 15:04:23,973] 31 root - INFO - YAML FILE params.yaml LOADED SUCCESSFULLY\n",
      "[2023-10-27 15:04:23,974] 50 root - INFO - CREATED DIRECTORY AT : artifacts\n",
      "[2023-10-27 15:04:23,975] 50 root - INFO - CREATED DIRECTORY AT : artifacts/prepare_base_model\n",
      "1\n",
      "save models\n",
      "<bound method Model.summary of <keras.src.engine.functional.Functional object at 0x00000195A8FA11D0>>\n",
      "[2023-10-27 15:04:24,424] 359 tensorflow - WARNING - Compiled the loaded model, but the compiled metrics have yet to be built. `model.compile_metrics` will be empty until you train or evaluate the model.\n",
      "2\n",
      "update_base_model\n",
      "Model: \"model_6\"\n",
      "_________________________________________________________________\n",
      " Layer (type)                Output Shape              Param #   \n",
      "=================================================================\n",
      " input_34 (InputLayer)       [(None, 224, 224, 3)]     0         \n",
      "                                                                 \n",
      " block1_conv1 (Conv2D)       (None, 224, 224, 64)      1792      \n",
      "                                                                 \n",
      " block1_conv2 (Conv2D)       (None, 224, 224, 64)      36928     \n",
      "                                                                 \n",
      " block1_pool (MaxPooling2D)  (None, 112, 112, 64)      0         \n",
      "                                                                 \n",
      " block2_conv1 (Conv2D)       (None, 112, 112, 128)     73856     \n",
      "                                                                 \n",
      " block2_conv2 (Conv2D)       (None, 112, 112, 128)     147584    \n",
      "                                                                 \n",
      " block2_pool (MaxPooling2D)  (None, 56, 56, 128)       0         \n",
      "                                                                 \n",
      " block3_conv1 (Conv2D)       (None, 56, 56, 256)       295168    \n",
      "                                                                 \n",
      " block3_conv2 (Conv2D)       (None, 56, 56, 256)       590080    \n",
      "                                                                 \n",
      " block3_conv3 (Conv2D)       (None, 56, 56, 256)       590080    \n",
      "                                                                 \n",
      " block3_pool (MaxPooling2D)  (None, 28, 28, 256)       0         \n",
      "                                                                 \n",
      " block4_conv1 (Conv2D)       (None, 28, 28, 512)       1180160   \n",
      "                                                                 \n",
      " block4_conv2 (Conv2D)       (None, 28, 28, 512)       2359808   \n",
      "                                                                 \n",
      " block4_conv3 (Conv2D)       (None, 28, 28, 512)       2359808   \n",
      "                                                                 \n",
      " block4_pool (MaxPooling2D)  (None, 14, 14, 512)       0         \n",
      "                                                                 \n",
      " block5_conv1 (Conv2D)       (None, 14, 14, 512)       2359808   \n",
      "                                                                 \n",
      " block5_conv2 (Conv2D)       (None, 14, 14, 512)       2359808   \n",
      "                                                                 \n",
      " block5_conv3 (Conv2D)       (None, 14, 14, 512)       2359808   \n",
      "                                                                 \n",
      " block5_pool (MaxPooling2D)  (None, 7, 7, 512)         0         \n",
      "                                                                 \n",
      " flatten_17 (Flatten)        (None, 25088)             0         \n",
      "                                                                 \n",
      " dense_14 (Dense)            (None, 2)                 50178     \n",
      "                                                                 \n",
      "=================================================================\n",
      "Total params: 14764866 (56.32 MB)\n",
      "Trainable params: 50178 (196.01 KB)\n",
      "Non-trainable params: 14714688 (56.13 MB)\n",
      "_________________________________________________________________\n",
      "save models\n",
      "<bound method Model.summary of <keras.src.engine.functional.Functional object at 0x00000195A8F7B1D0>>\n"
     ]
    },
    {
     "name": "stderr",
     "output_type": "stream",
     "text": [
      "d:\\codes\\DeepLearning_Proj\\proj1\\DLproj1\\Lib\\site-packages\\keras\\src\\engine\\training.py:3079: UserWarning: You are saving your model as an HDF5 file via `model.save()`. This file format is considered legacy. We recommend using instead the native Keras format, e.g. `model.save('my_model.keras')`.\n",
      "  saving_api.save_model(\n"
     ]
    }
   ],
   "source": [
    "try:\n",
    "    config = ConfigurationManager()\n",
    "    prepare_base_model_config = config.get_prepare_base_model_config()\n",
    "    prepare_base_model = PrepareBaseModel(config=prepare_base_model_config)\n",
    "    prepare_base_model.get_base_model()\n",
    "    prepare_base_model.update_base_model()\n",
    "except Exception as e:\n",
    "    CustomException(e,sys)"
   ]
  },
  {
   "cell_type": "code",
   "execution_count": null,
   "metadata": {},
   "outputs": [],
   "source": []
  }
 ],
 "metadata": {
  "kernelspec": {
   "display_name": "DLproj1",
   "language": "python",
   "name": "python3"
  },
  "language_info": {
   "codemirror_mode": {
    "name": "ipython",
    "version": 3
   },
   "file_extension": ".py",
   "mimetype": "text/x-python",
   "name": "python",
   "nbconvert_exporter": "python",
   "pygments_lexer": "ipython3",
   "version": "3.11.4"
  }
 },
 "nbformat": 4,
 "nbformat_minor": 2
}
